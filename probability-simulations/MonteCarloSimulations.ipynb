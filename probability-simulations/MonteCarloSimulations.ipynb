{
 "cells": [
  {
   "attachments": {},
   "cell_type": "markdown",
   "metadata": {},
   "source": [
    "### Code Practice from Monte Carlo Simulations course\n",
    "---- _[course by DataCamp](https://app.datacamp.com/learn/courses/monte-carlo-simulations-in-python)_----"
   ]
  },
  {
   "attachments": {},
   "cell_type": "markdown",
   "metadata": {},
   "source": [
    "- Chapter 1\n",
    "    - Monte Carlo Simulations introduction\n",
    "    - Practice examples :\n",
    "        - **[Starter1](#starter1)** - roll dice simulations to predict common value to occur\n",
    "        - **Hypothesis testing** - permutate discrete set of characteristics and visualize permutation test results\n",
    "        - **Starter2** - roll biased paired dice, list probabilities of number combinations and visualize"
   ]
  },
  {
   "attachments": {},
   "cell_type": "markdown",
   "metadata": {},
   "source": [
    "#### Starter1\n",
    "- _roll dice simulations to predict common value_"
   ]
  },
  {
   "cell_type": "code",
   "execution_count": 8,
   "metadata": {},
   "outputs": [
    {
     "name": "stdout",
     "output_type": "stream",
     "text": [
      "Mean value of rolling a dice 10000 times : 3.4927\n"
     ]
    }
   ],
   "source": [
    "def roll_dice(n_times :int):\n",
    "    \"\"\"\n",
    "    runs simulations of rolling dice n_times and prints the mean value\n",
    "    \n",
    "    Args:\n",
    "    ----\n",
    "    n_times - total number of simulations to run\n",
    "    \"\"\"\n",
    "    import random\n",
    "    import numpy as np\n",
    "\n",
    "    rolls = []\n",
    "    for i in range(n_times):\n",
    "        roll = random.randint(1, 6)\n",
    "        rolls.append(roll)\n",
    "    \n",
    "    mean = np.mean(rolls)\n",
    "    print(f\"Mean value of rolling a dice {n_times} times : {mean}\")\n",
    "\n",
    "# roll dice for 100000 times\n",
    "roll_dice(10000)"
   ]
  },
  {
   "cell_type": "code",
   "execution_count": 13,
   "metadata": {},
   "outputs": [
    {
     "name": "stdout",
     "output_type": "stream",
     "text": [
      "Current inflation rate : 9.0\n",
      "Mean inflation rate by 2025 after 10 simulations : 9.197999999999999\n"
     ]
    }
   ],
   "source": [
    "def inflation_sim(year: int, n_times: int):\n",
    "    \"\"\"\n",
    "    runs simulations of calculating inflation rate for a given year for n_times\n",
    "    \n",
    "    Args:\n",
    "    ----\n",
    "    year - year for which inflation rate is calculated\n",
    "    n_times - total number of simulations to run\n",
    "    \"\"\"\n",
    "    import random\n",
    "    import numpy as np\n",
    "    \n",
    "    mean_inf = []\n",
    "    for sim in range(n_times):\n",
    "        curr_rate = 9.0\n",
    "        yrly_inc = random.randint(1, 4)\n",
    "        period = year - 2022\n",
    "        for yr in range(period):\n",
    "            inf = curr_rate * ((100+yrly_inc)/100)\n",
    "            mean_inf.append(inf)\n",
    "    mean = np.mean(mean_inf)\n",
    "    print(f\"Current inflation rate : {curr_rate}\\n\\\n",
    "Mean inflation rate by {year} after {n_times} simulations : {mean}\")\n",
    "\n",
    "# inflation rate for 2025 after 10000 simulations\n",
    "inflation_sim(year=2025, n_times=10)"
   ]
  },
  {
   "attachments": {},
   "cell_type": "markdown",
   "metadata": {},
   "source": [
    "#### Hypothesis Testing\n",
    "- _Permutation of discrete set of characteristics_\n",
    "- _Visualization of permutation test statistic results_"
   ]
  },
  {
   "cell_type": "code",
   "execution_count": null,
   "metadata": {},
   "outputs": [],
   "source": []
  },
  {
   "attachments": {},
   "cell_type": "markdown",
   "metadata": {},
   "source": [
    "#### Starter 2\n",
    "- _[Paired Dice Simulation](https://campus.datacamp.com/courses/monte-carlo-simulations-in-python/introduction-to-monte-carlo-simulations?learningMode=course&ex=11)_ quick reference for generating probabilistic simulations with visuals similar to _[Crazy Lawn Mower](/probability-simulations/CrazyLawnMower_simulation.ipynb)_"
   ]
  },
  {
   "cell_type": "code",
   "execution_count": null,
   "metadata": {},
   "outputs": [],
   "source": []
  }
 ],
 "metadata": {
  "kernelspec": {
   "display_name": "py39",
   "language": "python",
   "name": "python3"
  },
  "language_info": {
   "codemirror_mode": {
    "name": "ipython",
    "version": 3
   },
   "file_extension": ".py",
   "mimetype": "text/x-python",
   "name": "python",
   "nbconvert_exporter": "python",
   "pygments_lexer": "ipython3",
   "version": "3.9.12"
  },
  "orig_nbformat": 4,
  "vscode": {
   "interpreter": {
    "hash": "df3951e9d28e87ec12fc58a7382759a8d5ba8d391c98eb0e31fa6143eec3515e"
   }
  }
 },
 "nbformat": 4,
 "nbformat_minor": 2
}
